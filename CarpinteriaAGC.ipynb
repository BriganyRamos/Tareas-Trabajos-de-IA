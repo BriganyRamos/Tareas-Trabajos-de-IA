{
  "nbformat": 4,
  "nbformat_minor": 0,
  "metadata": {
    "colab": {
      "provenance": [],
      "include_colab_link": true
    },
    "kernelspec": {
      "name": "python3",
      "display_name": "Python 3"
    },
    "language_info": {
      "name": "python"
    }
  },
  "cells": [
    {
      "cell_type": "markdown",
      "metadata": {
        "id": "view-in-github",
        "colab_type": "text"
      },
      "source": [
        "<a href=\"https://colab.research.google.com/github/BriganyRamos/Tareas-Trabajos-de-IA/blob/main/CarpinteriaAGC.ipynb\" target=\"_parent\"><img src=\"https://colab.research.google.com/assets/colab-badge.svg\" alt=\"Open In Colab\"/></a>"
      ]
    },
    {
      "cell_type": "code",
      "execution_count": null,
      "metadata": {
        "colab": {
          "base_uri": "https://localhost:8080/"
        },
        "id": "jnVpTSE4ZIQv",
        "outputId": "4f5605d1-cc8f-421f-b046-58d5124e668b"
      },
      "outputs": [
        {
          "output_type": "stream",
          "name": "stdout",
          "text": [
            "Collecting deap\n",
            "  Downloading deap-1.4.1-cp310-cp310-manylinux_2_5_x86_64.manylinux1_x86_64.manylinux_2_17_x86_64.manylinux2014_x86_64.whl (135 kB)\n",
            "\u001b[?25l     \u001b[90m━━━━━━━━━━━━━━━━━━━━━━━━━━━━━━━━━━━━━━━━\u001b[0m \u001b[32m0.0/135.4 kB\u001b[0m \u001b[31m?\u001b[0m eta \u001b[36m-:--:--\u001b[0m\r\u001b[2K     \u001b[91m━━━━━━━━━━━━━━━━━━━━━\u001b[0m\u001b[90m╺\u001b[0m\u001b[90m━━━━━━━━━━━━━━━━━━\u001b[0m \u001b[32m71.7/135.4 kB\u001b[0m \u001b[31m1.9 MB/s\u001b[0m eta \u001b[36m0:00:01\u001b[0m\r\u001b[2K     \u001b[90m━━━━━━━━━━━━━━━━━━━━━━━━━━━━━━━━━━━━━━━━\u001b[0m \u001b[32m135.4/135.4 kB\u001b[0m \u001b[31m2.6 MB/s\u001b[0m eta \u001b[36m0:00:00\u001b[0m\n",
            "\u001b[?25hRequirement already satisfied: numpy in /usr/local/lib/python3.10/dist-packages (from deap) (1.23.5)\n",
            "Installing collected packages: deap\n",
            "Successfully installed deap-1.4.1\n"
          ]
        }
      ],
      "source": [
        "pip install deap"
      ]
    },
    {
      "cell_type": "markdown",
      "source": [
        "Imports necesarios"
      ],
      "metadata": {
        "id": "AeLmnzaIaqkd"
      }
    },
    {
      "cell_type": "code",
      "source": [
        "import math\n",
        "from random import random\n",
        "from deap import base, creator, tools, algorithms\n",
        "import numpy as np"
      ],
      "metadata": {
        "id": "Mlq79xtAas51"
      },
      "execution_count": null,
      "outputs": []
    },
    {
      "cell_type": "markdown",
      "source": [],
      "metadata": {
        "id": "pUTtvn8TbELE"
      }
    },
    {
      "cell_type": "code",
      "source": [
        "estaciones_acomodar = [0,1,2,3,4,5,6,7,0,0,0,0]\n",
        "estaciones_ocupadas = {\n",
        "    8:{8,1,4},\n",
        "    9:{9,1,3},\n",
        "    10:{10,4,3},\n",
        "    11:{11,1,1},\n",
        "}\n",
        "libres = [\n",
        "    (1, 2),\n",
        "    (2, 1),\n",
        "    (2, 2),\n",
        "    (2, 3),\n",
        "    (2, 4),\n",
        "    (3, 1),\n",
        "    (3, 2),\n",
        "    (3, 3),\n",
        "    (3, 4),\n",
        "    (4, 1),\n",
        "    (4, 2),\n",
        "    (4, 4),\n",
        "]"
      ],
      "metadata": {
        "id": "ouPIIigdWeH1"
      },
      "execution_count": null,
      "outputs": []
    },
    {
      "cell_type": "code",
      "source": [
        "def generate_vector(n_genes):\n",
        "  return [0.5] * n_genes"
      ],
      "metadata": {
        "id": "uLFXhe68Zo9B"
      },
      "execution_count": null,
      "outputs": []
    },
    {
      "cell_type": "code",
      "source": [
        "def generate_candidate(vector):\n",
        "  value = \"\"\n",
        "  for prob in vector:\n",
        "    value += \"1\" if random() < prob else \"0\"\n",
        "\n",
        "  return value"
      ],
      "metadata": {
        "id": "yFa5NhxyakMm"
      },
      "execution_count": null,
      "outputs": []
    },
    {
      "cell_type": "code",
      "source": [
        "def bits_disponibles(estaciones_disp):\n",
        "  if estaciones_disp == 0:\n",
        "    return 1\n",
        "  else:\n",
        "    return int(math.log2(estaciones_disp)) + 1\n",
        "\n",
        "print(bits_disponibles(8))"
      ],
      "metadata": {
        "colab": {
          "base_uri": "https://localhost:8080/"
        },
        "id": "GcuofmRin-lQ",
        "outputId": "a3a3a715-ff4e-4999-b5ee-d70d22636bf8"
      },
      "execution_count": null,
      "outputs": [
        {
          "output_type": "stream",
          "name": "stdout",
          "text": [
            "4\n"
          ]
        }
      ]
    },
    {
      "cell_type": "code",
      "source": [
        "def dec_ind(ind):\n",
        "  estaciones_acomodar_copy = estaciones_acomodar.copy()\n",
        "  estaciones_ocupadas_copy = estaciones_ocupadas.copy()\n",
        "  ind2 = ind #cadena de bits recibida\n",
        "\n",
        "  for i in range(len(libres)):\n",
        "    cantidad_bits = bits_disponibles(len(estaciones_acomodar_copy))\n",
        "\n",
        "    bits_seleccionados = ind2[:cantidad_bits]\n",
        "    ind2 = ind2[cantidad_bits:]\n",
        "\n",
        "    if not bits_seleccionados:\n",
        "      elemento = 0\n",
        "    else:\n",
        "      elemento = int(bits_seleccionados,2)\n",
        "\n",
        "    if elemento >= len(estaciones_acomodar_copy):\n",
        "      elemento = len(estaciones_acomodar_copy) - 1\n",
        "\n",
        "    estacion = estaciones_acomodar_copy.pop(elemento)\n",
        "\n",
        "    if not estacion:\n",
        "      continue\n",
        "\n",
        "    x_pos, y_pos = libres[i]\n",
        "    estacion_num = estacion\n",
        "    print(estacion_num)\n",
        "    print('xpos ypos',x_pos,y_pos)\n",
        "    print({estacion_num,x_pos,y_pos})\n",
        "    estaciones_ocupadas_copy[estacion_num]={estacion_num,x_pos,y_pos}\n",
        "\n",
        "  return estaciones_ocupadas_copy"
      ],
      "metadata": {
        "id": "5AjXPhCdmjwG"
      },
      "execution_count": null,
      "outputs": []
    },
    {
      "cell_type": "code",
      "source": [
        "a = generate_vector(31)\n",
        "print(a)\n",
        "a2 = generate_candidate(a)\n",
        "\n",
        "print(a2)\n",
        "\n",
        "print(dec_ind(a2))"
      ],
      "metadata": {
        "colab": {
          "base_uri": "https://localhost:8080/"
        },
        "id": "TTGGXFUTZy6-",
        "outputId": "d20cf2b0-f452-4d37-8006-b23896ba4daf"
      },
      "execution_count": null,
      "outputs": [
        {
          "output_type": "stream",
          "name": "stdout",
          "text": [
            "[0.5, 0.5, 0.5, 0.5, 0.5, 0.5, 0.5, 0.5, 0.5, 0.5, 0.5, 0.5, 0.5, 0.5, 0.5, 0.5, 0.5, 0.5, 0.5, 0.5, 0.5, 0.5, 0.5, 0.5, 0.5, 0.5, 0.5, 0.5, 0.5, 0.5, 0.5]\n",
            "1100111000001011011100100100100\n",
            "2\n",
            "xpos ypos 3 1\n",
            "{1, 2, 3}\n",
            "3\n",
            "xpos ypos 3 2\n",
            "{2, 3}\n",
            "4\n",
            "xpos ypos 3 3\n",
            "{3, 4}\n",
            "1\n",
            "xpos ypos 3 4\n",
            "{1, 3, 4}\n",
            "5\n",
            "xpos ypos 4 1\n",
            "{1, 4, 5}\n",
            "6\n",
            "xpos ypos 4 2\n",
            "{2, 4, 6}\n",
            "7\n",
            "xpos ypos 4 4\n",
            "{4, 7}\n",
            "{8: {8, 1, 4}, 9: {9, 3, 1}, 10: {10, 3, 4}, 11: {1, 11}, 2: {1, 2, 3}, 3: {2, 3}, 4: {3, 4}, 1: {1, 3, 4}, 5: {1, 4, 5}, 6: {2, 4, 6}, 7: {4, 7}}\n"
          ]
        }
      ]
    }
  ]
}